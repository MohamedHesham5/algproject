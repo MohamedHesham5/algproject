{
 "cells": [
  {
   "cell_type": "code",
   "execution_count": 1,
   "id": "e1631c0a",
   "metadata": {},
   "outputs": [
    {
     "name": "stdout",
     "output_type": "stream",
     "text": [
      "[1]\n"
     ]
    },
    {
     "ename": "ValueError",
     "evalue": "invalid literal for int() with base 10: '[1]'",
     "output_type": "error",
     "traceback": [
      "\u001b[1;31m---------------------------------------------------------------------------\u001b[0m",
      "\u001b[1;31mValueError\u001b[0m                                Traceback (most recent call last)",
      "Cell \u001b[1;32mIn[1], line 27\u001b[0m\n\u001b[0;32m     22\u001b[0m     \u001b[38;5;28;01mreturn\u001b[39;00m output\n\u001b[0;32m     26\u001b[0m user_input \u001b[38;5;241m=\u001b[39m \u001b[38;5;28minput\u001b[39m(\u001b[38;5;124m\"\u001b[39m\u001b[38;5;124m\"\u001b[39m)\n\u001b[1;32m---> 27\u001b[0m arr \u001b[38;5;241m=\u001b[39m \u001b[38;5;28mlist\u001b[39m(\u001b[38;5;28mmap\u001b[39m(\u001b[38;5;28mint\u001b[39m, user_input\u001b[38;5;241m.\u001b[39msplit(\u001b[38;5;124m'\u001b[39m\u001b[38;5;124m,\u001b[39m\u001b[38;5;124m'\u001b[39m))) \n\u001b[0;32m     28\u001b[0m sorted_arr \u001b[38;5;241m=\u001b[39m counting_sort(arr)\n\u001b[0;32m     31\u001b[0m \u001b[38;5;28mprint\u001b[39m(\u001b[38;5;124m\"\u001b[39m\u001b[38;5;124m\"\u001b[39m, sorted_arr)\n",
      "\u001b[1;31mValueError\u001b[0m: invalid literal for int() with base 10: '[1]'"
     ]
    }
   ],
   "source": [
    "def counting_sort(arr):\n",
    "    max_value  =max(arr)\n",
    "    min_value  = min(arr)\n",
    "    \n",
    "    \n",
    "    offset = -min_value \n",
    "    \n",
    "    counting = [0] * (max_value - min_value + 1)  \n",
    "    \n",
    "    for num in arr:\n",
    "        counting[num + offset] += 1\n",
    "        \n",
    "    for i in range(1, len(counting)):\n",
    "        counting[i] += counting[i - 1]\n",
    "        \n",
    "        output = [0] * len(arr)\n",
    "    \n",
    "    for num in reversed(arr): \n",
    "        output[counting[num + offset] - 1] = num\n",
    "        counting[num + offset] -= 1 \n",
    "    \n",
    "    return output\n",
    "\n",
    "\n",
    "\n",
    "user_input = input(\"\")\n",
    "arr = list(map(int, user_input.split(','))) \n",
    "sorted_arr = counting_sort(arr)\n",
    "\n",
    "\n",
    "print(\"\", sorted_arr)"
   ]
  },
  {
   "cell_type": "code",
   "execution_count": null,
   "id": "7890bcdd",
   "metadata": {},
   "outputs": [],
   "source": []
  }
 ],
 "metadata": {
  "kernelspec": {
   "display_name": "Python 3 (ipykernel)",
   "language": "python",
   "name": "python3"
  },
  "language_info": {
   "codemirror_mode": {
    "name": "ipython",
    "version": 3
   },
   "file_extension": ".py",
   "mimetype": "text/x-python",
   "name": "python",
   "nbconvert_exporter": "python",
   "pygments_lexer": "ipython3",
   "version": "3.11.5"
  }
 },
 "nbformat": 4,
 "nbformat_minor": 5
}
