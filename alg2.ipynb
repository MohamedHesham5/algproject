{
 "cells": [
  {
   "cell_type": "code",
   "execution_count": null,
   "id": "6996a42a",
   "metadata": {},
   "outputs": [],
   "source": [
    "def counting_sort(arr):\n",
    "    max_value  =max(arr)\n",
    "    min_value  = min(arr)\n",
    "    \n",
    "    \n",
    "    offset = -min_value \n",
    "    \n",
    "    counting = [0] * (max_value - min_value + 1)  \n",
    "    \n",
    "    for num in arr:\n",
    "        counting[num + offset] += 1\n",
    "        \n",
    "    for i in range(1, len(counting)):\n",
    "        counting[i] += counting[i - 1]\n",
    "        \n",
    "        output = [0] * len(arr)\n",
    "    \n",
    "    for num in reversed(arr): \n",
    "        output[counting[num + offset] - 1] = num\n",
    "        counting[num + offset] -= 1 \n",
    "    \n",
    "    return output\n",
    "\n",
    "\n",
    "\n",
    "user_input = input(\"\")\n",
    "arr = list(map(int, user_input.split(','))) \n",
    "sorted_arr = counting_sort(arr)\n",
    "\n",
    "\n",
    "print(\"\", sorted_arr)"
   ]
  }
 ],
 "metadata": {
  "kernelspec": {
   "display_name": "Python 3 (ipykernel)",
   "language": "python",
   "name": "python3"
  },
  "language_info": {
   "codemirror_mode": {
    "name": "ipython",
    "version": 3
   },
   "file_extension": ".py",
   "mimetype": "text/x-python",
   "name": "python",
   "nbconvert_exporter": "python",
   "pygments_lexer": "ipython3",
   "version": "3.11.5"
  }
 },
 "nbformat": 4,
 "nbformat_minor": 5
}
